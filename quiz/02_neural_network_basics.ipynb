{
 "cells": [
  {
   "cell_type": "markdown",
   "metadata": {},
   "source": [
    "## Week 2 Quiz - Neural Network Basics\n",
    "\n",
    "##### 1. What does a neuron compute?\n",
    "\n",
    "> <input type=\"radio\"> A neuron computes an activation function followed by a linear function (z = Wx + b)\n",
    "\n",
    "> <input type=\"radio\" checked> A neuron computes a linear function (z = Wx + b) followed by an activation function\n",
    "\n",
    "> <input type=\"radio\"> A neuron computes a function g that scales the input x linearly (Wx + b)\n",
    "\n",
    "> <input type=\"radio\"> A neuron computes the mean of all features before applying the output to an activation function\n",
    "    \n",
    "##### 2. Which of these is the \"Logistic Loss\"?\n",
    "\n",
    "> <input type=\"radio\"> $ {L}^{(i)}(\\hat{y}^{(i)}, y^{(i)}) = \\mid y^{(i)} - \\hat{y}^{(i)} \\mid^{2} $\n",
    "    \n",
    "> <input type=\"radio\" checked> $ {L}^{(i)}(\\hat{y}^{(i)}, y^{(i)}) = -( y^{(i)}\\log(\\hat{y}^{(i)}) + (1- y^{(i)})\\log(1-\\hat{y}^{(i)}) $\n",
    "    \n",
    "> <input type=\"radio\"> $ {L}^{(i)}(\\hat{y}^{(i)}, y^{(i)}) = max(0, y^{(i)} - \\hat{y}^{(i)}) $\n",
    "    \n",
    "> <input type=\"radio\"> $ {L}^{(i)}(\\hat{y}^{(i)}, y^{(i)}) = \\mid y^{(i)} - \\hat{y}^{(i)} \\mid $\n",
    "\n",
    "##### 3. Suppose img is a (32,32,3) array, representing a 32x32 image with 3 color channels red, green and blue. How do you reshape this into a column vector?\n",
    "\n",
    "> <input type=\"radio\"> x = img.reshape((1,32 x 32 x 3))\n",
    "\n",
    "> <input type=\"radio\"> x = img.reshape((3,32 x 32))\n",
    "\n",
    "> <input type=\"radio\" checked> x = img.reshape((32 x 32 x 3,1))\n",
    "\n",
    "> <input type=\"radio\"> x = img.reshape((32 x 32,3))\n",
    "\n",
    "##### 4. Consider the two following random arrays \"a\" and \"b\". What will be the shape of \"c\"?"
   ]
  },
  {
   "cell_type": "code",
   "execution_count": null,
   "metadata": {
    "collapsed": true
   },
   "outputs": [],
   "source": [
    "a = np.random.randn(2,3) # a.shape = (2,3)\n",
    "b = np.random.rand(2,1) # b.shape = (2,1)\n",
    "c = a + b"
   ]
  },
  {
   "cell_type": "markdown",
   "metadata": {},
   "source": [
    "> <input type=\"radio\"> c.shape = (3, 2)\n",
    "\n",
    "> <input type=\"radio\"> c.shape = (2, 1)\n",
    "\n",
    "> <input type=\"radio\"> The computation cannot happen because the sizes don't match. It's going to be \"Error\"!\n",
    "\n",
    "> <input type=\"radio\" checked> c.shape = (2, 3)\n",
    "\n",
    "##### 5. Consider the two following random arrays \"a\" and \"b\". What will be the shape of \"c\"?"
   ]
  },
  {
   "cell_type": "code",
   "execution_count": null,
   "metadata": {
    "collapsed": true
   },
   "outputs": [],
   "source": [
    "a = np.random.randn(4,3) #a.shape = (4,3)\n",
    "b = np.random.randn(3,2) #b.shape = (3,2)\n",
    "c = a*b"
   ]
  },
  {
   "cell_type": "markdown",
   "metadata": {},
   "source": [
    "> <input type=\"radio\"> c.shape = (3, 3)\n",
    "\n",
    "> <input type=\"radio\"> c.shape = (4, 3)\n",
    "\n",
    "> <input type=\"radio\" checked> The computation cannot happen because the sizes don't match. It's going to be \"Error\"!\n",
    "\n",
    "> <input type=\"radio\"> c.shape = (4,2)\n",
    "\n",
    "##### 6. Suppose you have $ n_x $ input features per example. Recall that $ X = [x^{(1)} x^{(2)} ... x^{(m)}] $. What is the dimension of X?\n",
    "\n",
    "> <input type=\"radio\"> (m,1)\n",
    "\n",
    "> <input type=\"radio\"> (1,m)\n",
    "\n",
    "> <input type=\"radio\"> (m,$ n_x $)\n",
    "\n",
    "> <input type=\"radio\" checked> ($ n_x $,m)\n",
    "\n",
    "##### 7. Recall that \"np.dot(a,b)\" performs a matrix multiplication on a and b, whereas \"a*b\" performs an element-wise multiplication. Consider the two following random arrays \"a\" and \"b\". What is the shape of c?"
   ]
  },
  {
   "cell_type": "code",
   "execution_count": null,
   "metadata": {
    "collapsed": true
   },
   "outputs": [],
   "source": [
    "a = np.random.randn(12288,150) #a.shape = (12288,150)\n",
    "b = np.random.randn(150,45) #b.shape = (150,45)\n",
    "c = np.dot(a,b)"
   ]
  },
  {
   "cell_type": "markdown",
   "metadata": {},
   "source": [
    "> <input type=\"radio\" checked> c.shape = (12288, 45)\n",
    "\n",
    "> <input type=\"radio\"> The computation cannot happen because the sizes don't match. It's going to be \"Error\"!\n",
    "\n",
    "> <input type=\"radio\"> c.shape = (12288, 150)\n",
    "\n",
    "> <input type=\"radio\"> c.shape = (150,150)\n",
    "\n",
    "##### 8. Consider the following code snippet. How do you vectorize this?"
   ]
  },
  {
   "cell_type": "code",
   "execution_count": null,
   "metadata": {
    "collapsed": true
   },
   "outputs": [],
   "source": [
    "# a.shape = (3,4)\n",
    "# b.shape = (4,1)\n",
    "\n",
    "for i in range(3):\n",
    "  for j in range(4):\n",
    "    c[i][j] = a[i][j] + b[j]"
   ]
  },
  {
   "cell_type": "markdown",
   "metadata": {},
   "source": [
    "> <input type=\"radio\"> c = a.T + b.T\n",
    "\n",
    "> <input type=\"radio\" checked> c = a + b.T\n",
    "\n",
    "> <input type=\"radio\"> c = a + b\n",
    "\n",
    "> <input type=\"radio\"> c = a.T + b\n",
    "\n",
    "##### 9. Consider the following code. What will be c? (If you’re not sure, feel free to run this in python to find out)."
   ]
  },
  {
   "cell_type": "code",
   "execution_count": null,
   "metadata": {
    "collapsed": true
   },
   "outputs": [],
   "source": [
    "a = np.random.randn(3, 3)\n",
    "b = np.random.randn(3, 1)\n",
    "c = a*b"
   ]
  },
  {
   "cell_type": "markdown",
   "metadata": {},
   "source": [
    "> <input type=\"radio\" checked> This will invoke broadcasting, so b is copied three times to become (3,3), and ∗ is an element-wise product so c.shape will be (3, 3)\n",
    "\n",
    "> <input type=\"radio\"> This will invoke broadcasting, so b is copied three times to become (3, 3), and ∗ invokes a matrix multiplication operation of two 3x3 matrices so c.shape will be (3, 3)\n",
    "\n",
    "> <input type=\"radio\"> This will multiply a 3x3 matrix a with a 3x1 vector, thus resulting in a 3x1 vector. That is, c.shape = (3,1).\n",
    "\n",
    "> <input type=\"radio\"> It will lead to an error since you cannot use “*” to operate on these two matrices. You need to instead use np.dot(a,b)\n",
    "\n",
    "##### 10. Consider the following computation graph. What is the output J?\n",
    "\n",
    "<img src=img/02_01.png />\n",
    "\n",
    "> <input type=\"radio\"> J = (c - 1)*(b + a)\n",
    "\n",
    "> <input type=\"radio\" checked> J = (a - 1) * (b + c)\n",
    "\n",
    "> <input type=\"radio\"> J = a*b + b*c + a*c\n",
    "\n",
    "> <input type=\"radio\"> J = (b - 1) * (c + a)"
   ]
  }
 ],
 "metadata": {
  "kernelspec": {
   "display_name": "Python 3",
   "language": "python",
   "name": "python3"
  },
  "language_info": {
   "codemirror_mode": {
    "name": "ipython",
    "version": 3
   },
   "file_extension": ".py",
   "mimetype": "text/x-python",
   "name": "python",
   "nbconvert_exporter": "python",
   "pygments_lexer": "ipython3",
   "version": "3.6.1"
  }
 },
 "nbformat": 4,
 "nbformat_minor": 2
}
